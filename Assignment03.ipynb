{
 "cells": [
  {
   "cell_type": "markdown",
   "metadata": {},
   "source": [
    "This script demonstrates the k-means algorithm.\n",
    "\n",
    "Name : So-Jeong An\n",
    "\n",
    "Student ID : 2018120203"
   ]
  },
  {
   "cell_type": "markdown",
   "metadata": {},
   "source": [
    "# Create random data"
   ]
  },
  {
   "cell_type": "code",
   "execution_count": 1,
   "metadata": {},
   "outputs": [
    {
     "data": {
      "text/plain": [
       "[[92, 66],\n",
       " [35, 18],\n",
       " [57, 1],\n",
       " [30, 91],\n",
       " [76, 55],\n",
       " [27, 4],\n",
       " [98, 7],\n",
       " [88, 29],\n",
       " [19, 97],\n",
       " [76, 64],\n",
       " [16, 78],\n",
       " [72, 77],\n",
       " [71, 37],\n",
       " [88, 13],\n",
       " [58, 11],\n",
       " [61, 41],\n",
       " [29, 90],\n",
       " [65, 5],\n",
       " [92, 62],\n",
       " [75, 58]]"
      ]
     },
     "execution_count": 1,
     "metadata": {},
     "output_type": "execute_result"
    }
   ],
   "source": [
    "from random import *\n",
    "import random\n",
    "import numpy as np\n",
    "from matplotlib import pyplot as plt\n",
    "\n",
    "data = []\n",
    "totaldata = []\n",
    "\n",
    "def generatePointCluster(k, n):\n",
    "    for i in range(0, n):\n",
    "        dataX = randint(1, 100) # 1부터 100 사이의 임의의 정수\n",
    "        dataY = randint(1, 100)\n",
    "        data.append([dataX, dataY])\n",
    "    return (data)\n",
    "    \n",
    "generatePointCluster(2, 20)"
   ]
  },
  {
   "cell_type": "markdown",
   "metadata": {},
   "source": [
    "# Create random label"
   ]
  },
  {
   "cell_type": "code",
   "execution_count": 2,
   "metadata": {},
   "outputs": [
    {
     "data": {
      "text/plain": [
       "[([92, 66], 1),\n",
       " ([35, 18], 1),\n",
       " ([57, 1], 1),\n",
       " ([30, 91], 1),\n",
       " ([76, 55], 0),\n",
       " ([27, 4], 0),\n",
       " ([98, 7], 1),\n",
       " ([88, 29], 1),\n",
       " ([19, 97], 0),\n",
       " ([76, 64], 1),\n",
       " ([16, 78], 1),\n",
       " ([72, 77], 1),\n",
       " ([71, 37], 1),\n",
       " ([88, 13], 1),\n",
       " ([58, 11], 0),\n",
       " ([61, 41], 1),\n",
       " ([29, 90], 0),\n",
       " ([65, 5], 0),\n",
       " ([92, 62], 1),\n",
       " ([75, 58], 1)]"
      ]
     },
     "execution_count": 2,
     "metadata": {},
     "output_type": "execute_result"
    }
   ],
   "source": [
    "def initialiseLabel(k, n):\n",
    "    for i in range(0, n):\n",
    "        labels = randint(0, k-1)\n",
    "        totaldata.append((data[i],labels))\n",
    "    return (totaldata)\n",
    "\n",
    "initialiseLabel(2, 20)"
   ]
  },
  {
   "cell_type": "markdown",
   "metadata": {},
   "source": [
    "# Compute centroid points"
   ]
  },
  {
   "cell_type": "code",
   "execution_count": 23,
   "metadata": {
    "scrolled": true
   },
   "outputs": [
    {
     "name": "stdout",
     "output_type": "stream",
     "text": [
      "20\n"
     ]
    },
    {
     "name": "stderr",
     "output_type": "stream",
     "text": [
      "C:\\Users\\My\\Anaconda3\\lib\\site-packages\\numpy\\core\\fromnumeric.py:2957: RuntimeWarning: Mean of empty slice.\n",
      "  out=out, **kwargs)\n",
      "C:\\Users\\My\\Anaconda3\\lib\\site-packages\\numpy\\core\\_methods.py:80: RuntimeWarning: invalid value encountered in true_divide\n",
      "  ret = ret.dtype.type(ret / rcount)\n"
     ]
    },
    {
     "data": {
      "text/plain": [
       "[[45.66, 43.66], [67.94, 45.84]]"
      ]
     },
     "execution_count": 23,
     "metadata": {},
     "output_type": "execute_result"
    }
   ],
   "source": [
    "centroids = []\n",
    "\n",
    "def computeCentroid(k):\n",
    "    print(len(totaldata))\n",
    "    for i in range(0, k):\n",
    "        centroid_X = []\n",
    "        centroid_Y = []\n",
    "        centroid = []\n",
    "        for j in range(0, len(totaldata)):\n",
    "            if(totaldata[j][1]==i):\n",
    "                centroid_X.append(int(data[j][0]))\n",
    "                centroid_Y.append(int(data[j][1]))\n",
    "            centroid = [np.mean(centroid_X, dtype=np.float16), np.mean(centroid_Y, dtype=np.float16)]\n",
    "        centroids.append(centroid)\n",
    "    return (centroids)\n",
    "\n",
    "computeCentroid(2)"
   ]
  },
  {
   "cell_type": "markdown",
   "metadata": {},
   "source": [
    "# Compute Distance"
   ]
  },
  {
   "cell_type": "code",
   "execution_count": 24,
   "metadata": {},
   "outputs": [],
   "source": [
    "def computeDistance(data,centroid): #data와 중심점 거리 계산\n",
    "    xdistance = (data[0] - centroid[0]) ** 2\n",
    "    ydistance = (data[1] - centroid[1]) ** 2\n",
    "    sum = xdistance+ydistance\n",
    "    return np.sqrt(sum)"
   ]
  },
  {
   "cell_type": "markdown",
   "metadata": {},
   "source": [
    "# Assign label of shortest distance"
   ]
  },
  {
   "cell_type": "code",
   "execution_count": 25,
   "metadata": {
    "scrolled": false
   },
   "outputs": [
    {
     "data": {
      "text/plain": [
       "[([92, 66], 1),\n",
       " ([35, 18], 0),\n",
       " ([57, 1], 0),\n",
       " ([30, 91], 0),\n",
       " ([76, 55], 1),\n",
       " ([27, 4], 0),\n",
       " ([98, 7], 1),\n",
       " ([88, 29], 1),\n",
       " ([19, 97], 0),\n",
       " ([76, 64], 1),\n",
       " ([16, 78], 0),\n",
       " ([72, 77], 1),\n",
       " ([71, 37], 1),\n",
       " ([88, 13], 1),\n",
       " ([58, 11], 0),\n",
       " ([61, 41], 1),\n",
       " ([29, 90], 0),\n",
       " ([65, 5], 1),\n",
       " ([92, 62], 1),\n",
       " ([75, 58], 1)]"
      ]
     },
     "execution_count": 25,
     "metadata": {},
     "output_type": "execute_result"
    }
   ],
   "source": [
    "#generatePointCluster(2, 20)\n",
    "#initialiseLabel(2, 20)\n",
    "#computeCentroid(2)\n",
    "distancearray = []\n",
    "\n",
    "def assignLabel(n):\n",
    "    distance = []\n",
    "    totaldata = []\n",
    "    for i in range(0, n):\n",
    "        shortest = 10000\n",
    "        for j in range(0, len(centroids)):\n",
    "\n",
    "            distance = computeDistance(data[i],centroids[j])\n",
    "            distancearray.append(distance)\n",
    "\n",
    "            if(distance < shortest):\n",
    "                shortest = distance\n",
    "                shortest_label = j\n",
    "                \n",
    "        totaldata.append((data[i], shortest_label))\n",
    "    \n",
    "    return (totaldata)\n",
    "\n",
    "assignLabel(20)"
   ]
  },
  {
   "cell_type": "code",
   "execution_count": 26,
   "metadata": {},
   "outputs": [
    {
     "data": {
      "text/plain": [
       "72783.60546875"
      ]
     },
     "execution_count": 26,
     "metadata": {},
     "output_type": "execute_result"
    }
   ],
   "source": [
    "def computeEnergy():\n",
    "    energy = 0\n",
    "    for i in range(0, len(distancearray)):\n",
    "        energy += distancearray[i] ** 2\n",
    "    return energy\n",
    "    \n",
    "computeEnergy()"
   ]
  },
  {
   "cell_type": "markdown",
   "metadata": {},
   "source": [
    "# Data visualize "
   ]
  },
  {
   "cell_type": "code",
   "execution_count": 40,
   "metadata": {},
   "outputs": [
    {
     "name": "stdout",
     "output_type": "stream",
     "text": [
      "20\n"
     ]
    },
    {
     "name": "stderr",
     "output_type": "stream",
     "text": [
      "C:\\Users\\My\\Anaconda3\\lib\\site-packages\\numpy\\core\\fromnumeric.py:2957: RuntimeWarning: Mean of empty slice.\n",
      "  out=out, **kwargs)\n",
      "C:\\Users\\My\\Anaconda3\\lib\\site-packages\\numpy\\core\\_methods.py:80: RuntimeWarning: invalid value encountered in true_divide\n",
      "  ret = ret.dtype.type(ret / rcount)\n"
     ]
    },
    {
     "data": {
      "image/png": "[encoded data removed]",
      "text/plain": [
       "<Figure size 432x288 with 1 Axes>"
      ]
     },
     "metadata": {},
     "output_type": "display_data"
    }
   ],
   "source": [
    "computeCentroid(2)\n",
    "assignLabel(20)\n",
    "\n",
    "\n",
    "import numpy as np\n",
    "import matplotlib.pyplot as plt\n",
    "\n",
    "for i in range(0, len(data)):\n",
    "    x = np.array(data[i][0])\n",
    "    y = np.array(data[i][1])\n",
    "    if(totaldata[i][1] == 0):\n",
    "        label = 'red'\n",
    "    else:\n",
    "        label = 'blue'\n",
    "    plt.scatter(x, y, color = label)\n",
    "\n",
    "plt.title('k-means')\n",
    "plt.show()"
   ]
  },
  {
   "cell_type": "code",
   "execution_count": null,
   "metadata": {},
   "outputs": [],
   "source": []
  }
 ],
 "metadata": {
  "kernelspec": {
   "display_name": "Python 3",
   "language": "python",
   "name": "python3"
  },
  "language_info": {
   "codemirror_mode": {
    "name": "ipython",
    "version": 3
   },
   "file_extension": ".py",
   "mimetype": "text/x-python",
   "name": "python",
   "nbconvert_exporter": "python",
   "pygments_lexer": "ipython3",
   "version": "3.6.5"
  }
 },
 "nbformat": 4,
 "nbformat_minor": 2
}
